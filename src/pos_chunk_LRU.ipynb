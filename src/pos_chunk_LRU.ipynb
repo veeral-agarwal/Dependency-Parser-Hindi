{
 "cells": [
  {
   "cell_type": "code",
   "execution_count": 1,
   "metadata": {},
   "outputs": [],
   "source": [
    "import sys\n",
    "import pickle\n",
    "import json\n",
    "import re\n",
    "import numpy as np\n",
    "from scipy.sparse import csr_matrix\n",
    "from sklearn.svm import LinearSVC\n",
    "from sklearn.metrics import classification_report"
   ]
  },
  {
   "cell_type": "code",
   "execution_count": 2,
   "metadata": {},
   "outputs": [],
   "source": [
    "def feature_transform(train_file, tags, chunk_tags):\n",
    "    \n",
    "    tags_len = len(tags)\n",
    "    chunk_tags_len = len(chunk_tags)    \n",
    "    row_idx = []\n",
    "    column_idx = []\n",
    "    data = []\n",
    "    y = []\n",
    "    ctr = 0\n",
    "    feature_length = tags_len + chunk_tags_len # Per head\n",
    "\n",
    "    f = open(train_file)\n",
    "\n",
    "    for line in f:\n",
    "            ctr += 1\n",
    "            if(line.rstrip()):\n",
    "                line = re.sub(\"\\s+\",\" \",line)\n",
    "                line1 = line.split(\";\")\n",
    "\n",
    "                a1 = line1[0].split(\" \")\n",
    "                a2 = line1[1].split(\" \")\n",
    "                a3 = line1[2].split(\" \")\n",
    "\n",
    "                if(a1[0] == \"H\"):\n",
    "                    column_idx.append(tags.index(a1[4]))\n",
    "                    column_idx.append(chunk_tags.index(a1[3]) + tags_len)\n",
    "\n",
    "                elif(a1[0] == \"ROOT\"):\n",
    "                    column_idx.append(tags.index(\"ROOT\"))\n",
    "                    column_idx.append(chunk_tags.index(\"ROOT\") + tags_len)\n",
    "\n",
    "                row_idx += [ctr-1]*4\n",
    "                data += [1] * 4\n",
    "                column_idx.append(feature_length + tags.index(a2[5]))\n",
    "                column_idx.append(feature_length + chunk_tags.index(a2[4]) + tags_len)\n",
    "\n",
    "                y.append(a3[1])\n",
    "\n",
    "    f.close()\n",
    "\n",
    "    X = csr_matrix((data, (row_idx, column_idx)), shape=(ctr,2*(tags_len+chunk_tags_len)))\n",
    "    \n",
    "    \n",
    "    return X, y"
   ]
  },
  {
   "cell_type": "code",
   "execution_count": 3,
   "metadata": {},
   "outputs": [],
   "source": [
    "listfile = \"data_tokens.json\"\n",
    "f = open(listfile)\n",
    "data = json.load(f)\n",
    "f.close()\n",
    "\n",
    "tags = data[\"tags\"]\n",
    "chunk_tags = data[\"chunk_tags\"]\n",
    "\n",
    "train_file = 'training_data.txt'\n",
    "test_file = \"testing_data.txt\"\n",
    "\n",
    "X_train, y_train = feature_transform(train_file, tags, chunk_tags)\n",
    "X_test, y_test = feature_transform(test_file, tags, chunk_tags)\n",
    "\n",
    "\n",
    "model = LinearSVC()\n",
    "model.fit(X_train, y_train)\n",
    "\n",
    "pred_train = model.predict(X_train)\n",
    "pred_test = model.predict(X_test)"
   ]
  },
  {
   "cell_type": "code",
   "execution_count": 4,
   "metadata": {},
   "outputs": [
    {
     "name": "stdout",
     "output_type": "stream",
     "text": [
      "              precision    recall  f1-score   support\n",
      "\n",
      "           L       0.70      0.82      0.76     32409\n",
      "           R       0.67      0.70      0.68     82664\n",
      "           U       0.83      0.78      0.80    169393\n",
      "\n",
      "    accuracy                           0.76    284466\n",
      "   macro avg       0.73      0.77      0.75    284466\n",
      "weighted avg       0.77      0.76      0.76    284466\n",
      "\n"
     ]
    }
   ],
   "source": [
    "print(classification_report(y_train, pred_train))"
   ]
  },
  {
   "cell_type": "code",
   "execution_count": 5,
   "metadata": {},
   "outputs": [
    {
     "name": "stdout",
     "output_type": "stream",
     "text": [
      "              precision    recall  f1-score   support\n",
      "\n",
      "           L       0.71      0.83      0.76      4174\n",
      "           R       0.67      0.70      0.68     10448\n",
      "           U       0.83      0.78      0.80     21561\n",
      "\n",
      "    accuracy                           0.76     36183\n",
      "   macro avg       0.73      0.77      0.75     36183\n",
      "weighted avg       0.77      0.76      0.76     36183\n",
      "\n"
     ]
    }
   ],
   "source": [
    "print(classification_report(y_test, pred_test))"
   ]
  }
 ],
 "metadata": {
  "kernelspec": {
   "display_name": "Python 3",
   "language": "python",
   "name": "python3"
  },
  "language_info": {
   "codemirror_mode": {
    "name": "ipython",
    "version": 3
   },
   "file_extension": ".py",
   "mimetype": "text/x-python",
   "name": "python",
   "nbconvert_exporter": "python",
   "pygments_lexer": "ipython3",
   "version": "3.8.3"
  }
 },
 "nbformat": 4,
 "nbformat_minor": 4
}
